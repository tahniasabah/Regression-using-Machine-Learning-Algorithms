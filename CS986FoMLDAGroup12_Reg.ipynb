{
 "cells": [
  {
   "cell_type": "markdown",
   "id": "e16449f4",
   "metadata": {},
   "source": [
    "# CS986FoMLDAGroup12 Regression Problem"
   ]
  },
  {
   "cell_type": "code",
   "execution_count": null,
   "id": "81665218",
   "metadata": {},
   "outputs": [],
   "source": [
    "John Were 202151881 \n",
    "Lisa Fulton 202184799 \n",
    "Tahnia Sabah 202160537 \n",
    "Amogh Patil 202186255 \n",
    "Muhammad Umar Janjua 202169077 "
   ]
  },
  {
   "cell_type": "markdown",
   "id": "c2ee87a1",
   "metadata": {
    "id": "5e52b653"
   },
   "source": [
    "In this assignment we are tasked with finding a machine learning model using regression that will be able to predict future instances based on the attributes associated with the training dataset. The dataset used here is a collection of songs and attributes based on a larger dataset collected from a Spotify playlist. Our goal in this assignment is to explore the dataset, gain insights into which attributes will be the most useful, and to build a regression model capable of prediction. This will be followed by our findings and potential future work that we feel would be useful in improving the predications for this regression problem. "
   ]
  },
  {
   "cell_type": "markdown",
   "id": "f6ad3bca",
   "metadata": {
    "id": "f6ad3bca"
   },
   "source": [
    "# 1. Set Up"
   ]
  },
  {
   "cell_type": "code",
   "execution_count": 1,
   "id": "9201973c",
   "metadata": {
    "id": "9201973c"
   },
   "outputs": [],
   "source": [
    "##Import necessary libraries, making sure matplotlib plot figures inline and prepare the function to save the figures \n",
    "import numpy as np\n",
    "import os\n",
    "import warnings\n",
    "warnings.filterwarnings(\"ignore\")"
   ]
  },
  {
   "cell_type": "code",
   "execution_count": 3,
   "id": "5d966f53",
   "metadata": {
    "id": "5d966f53"
   },
   "outputs": [],
   "source": [
    "%matplotlib inline\n",
    "import matplotlib as mpl\n",
    "import matplotlib.pyplot as plt\n",
    "mpl.rc('axes', labelsize=14)\n",
    "mpl.rc('xtick', labelsize=12)\n",
    "mpl.rc('ytick', labelsize=12)"
   ]
  },
  {
   "cell_type": "code",
   "execution_count": 4,
   "id": "7dff874a",
   "metadata": {
    "id": "7dff874a"
   },
   "outputs": [],
   "source": [
    "PROJECT_ROOT_DIR = \".\"\n",
    "CHAPTER_ID = \"Regression_problem_song_popularity_score\"\n",
    "IMAGES_PATH = os.path.join(PROJECT_ROOT_DIR, \"images\", CHAPTER_ID)\n",
    "os.makedirs(IMAGES_PATH, exist_ok=True)\n",
    "\n",
    "def save_fig(fig_id, tight_layout=True, fig_extension=\"png\", resolution=300):\n",
    "    path = os.path.join(IMAGES_PATH, fig_id + \".\" + fig_extension)\n",
    "    print(\"Saving figure\", fig_id)\n",
    "    if tight_layout:\n",
    "        plt.tight_layout()\n",
    "    plt.savefig(path, format=fig_extension, dpi=resolution)"
   ]
  },
  {
   "cell_type": "markdown",
   "id": "43859c26",
   "metadata": {
    "id": "43859c26"
   },
   "source": [
    "# 2. Getting Data"
   ]
  },
  {
   "cell_type": "code",
   "execution_count": 8,
   "id": "f52d822b",
   "metadata": {
    "id": "f52d822b"
   },
   "outputs": [],
   "source": [
    "import pandas as pd\n",
    "Song_popularity_train=pd.read_csv(\"CS98XRegressionTrain.csv\")"
   ]
  },
  {
   "cell_type": "code",
   "execution_count": 9,
   "id": "cd771b17",
   "metadata": {
    "colab": {
     "base_uri": "https://localhost:8080/",
     "height": 641
    },
    "id": "cd771b17",
    "outputId": "d8e32e42-0b86-4e5a-e4f3-72734c978559"
   },
   "outputs": [
    {
     "data": {
      "text/html": [
       "<div>\n",
       "<style scoped>\n",
       "    .dataframe tbody tr th:only-of-type {\n",
       "        vertical-align: middle;\n",
       "    }\n",
       "\n",
       "    .dataframe tbody tr th {\n",
       "        vertical-align: top;\n",
       "    }\n",
       "\n",
       "    .dataframe thead th {\n",
       "        text-align: right;\n",
       "    }\n",
       "</style>\n",
       "<table border=\"1\" class=\"dataframe\">\n",
       "  <thead>\n",
       "    <tr style=\"text-align: right;\">\n",
       "      <th></th>\n",
       "      <th>Id</th>\n",
       "      <th>title</th>\n",
       "      <th>artist</th>\n",
       "      <th>top genre</th>\n",
       "      <th>year</th>\n",
       "      <th>bpm</th>\n",
       "      <th>nrgy</th>\n",
       "      <th>dnce</th>\n",
       "      <th>dB</th>\n",
       "      <th>live</th>\n",
       "      <th>val</th>\n",
       "      <th>dur</th>\n",
       "      <th>acous</th>\n",
       "      <th>spch</th>\n",
       "      <th>pop</th>\n",
       "    </tr>\n",
       "  </thead>\n",
       "  <tbody>\n",
       "    <tr>\n",
       "      <th>0</th>\n",
       "      <td>1</td>\n",
       "      <td>My Happiness</td>\n",
       "      <td>Connie Francis</td>\n",
       "      <td>adult standards</td>\n",
       "      <td>1996</td>\n",
       "      <td>107</td>\n",
       "      <td>31</td>\n",
       "      <td>45</td>\n",
       "      <td>-8</td>\n",
       "      <td>13</td>\n",
       "      <td>28</td>\n",
       "      <td>150</td>\n",
       "      <td>75</td>\n",
       "      <td>3</td>\n",
       "      <td>44</td>\n",
       "    </tr>\n",
       "    <tr>\n",
       "      <th>1</th>\n",
       "      <td>2</td>\n",
       "      <td>Unchained Melody</td>\n",
       "      <td>The Teddy Bears</td>\n",
       "      <td>NaN</td>\n",
       "      <td>2011</td>\n",
       "      <td>114</td>\n",
       "      <td>44</td>\n",
       "      <td>53</td>\n",
       "      <td>-8</td>\n",
       "      <td>13</td>\n",
       "      <td>47</td>\n",
       "      <td>139</td>\n",
       "      <td>49</td>\n",
       "      <td>3</td>\n",
       "      <td>37</td>\n",
       "    </tr>\n",
       "    <tr>\n",
       "      <th>2</th>\n",
       "      <td>3</td>\n",
       "      <td>How Deep Is Your Love</td>\n",
       "      <td>Bee Gees</td>\n",
       "      <td>adult standards</td>\n",
       "      <td>1979</td>\n",
       "      <td>105</td>\n",
       "      <td>36</td>\n",
       "      <td>63</td>\n",
       "      <td>-9</td>\n",
       "      <td>13</td>\n",
       "      <td>67</td>\n",
       "      <td>245</td>\n",
       "      <td>11</td>\n",
       "      <td>3</td>\n",
       "      <td>77</td>\n",
       "    </tr>\n",
       "    <tr>\n",
       "      <th>3</th>\n",
       "      <td>4</td>\n",
       "      <td>Woman in Love</td>\n",
       "      <td>Barbra Streisand</td>\n",
       "      <td>adult standards</td>\n",
       "      <td>1980</td>\n",
       "      <td>170</td>\n",
       "      <td>28</td>\n",
       "      <td>47</td>\n",
       "      <td>-16</td>\n",
       "      <td>13</td>\n",
       "      <td>33</td>\n",
       "      <td>232</td>\n",
       "      <td>25</td>\n",
       "      <td>3</td>\n",
       "      <td>67</td>\n",
       "    </tr>\n",
       "    <tr>\n",
       "      <th>4</th>\n",
       "      <td>5</td>\n",
       "      <td>Goodbye Yellow Brick Road - Remastered 2014</td>\n",
       "      <td>Elton John</td>\n",
       "      <td>glam rock</td>\n",
       "      <td>1973</td>\n",
       "      <td>121</td>\n",
       "      <td>47</td>\n",
       "      <td>56</td>\n",
       "      <td>-8</td>\n",
       "      <td>15</td>\n",
       "      <td>40</td>\n",
       "      <td>193</td>\n",
       "      <td>45</td>\n",
       "      <td>3</td>\n",
       "      <td>63</td>\n",
       "    </tr>\n",
       "    <tr>\n",
       "      <th>...</th>\n",
       "      <td>...</td>\n",
       "      <td>...</td>\n",
       "      <td>...</td>\n",
       "      <td>...</td>\n",
       "      <td>...</td>\n",
       "      <td>...</td>\n",
       "      <td>...</td>\n",
       "      <td>...</td>\n",
       "      <td>...</td>\n",
       "      <td>...</td>\n",
       "      <td>...</td>\n",
       "      <td>...</td>\n",
       "      <td>...</td>\n",
       "      <td>...</td>\n",
       "      <td>...</td>\n",
       "    </tr>\n",
       "    <tr>\n",
       "      <th>448</th>\n",
       "      <td>449</td>\n",
       "      <td>But Not For Me</td>\n",
       "      <td>Ella Fitzgerald</td>\n",
       "      <td>adult standards</td>\n",
       "      <td>1959</td>\n",
       "      <td>80</td>\n",
       "      <td>22</td>\n",
       "      <td>18</td>\n",
       "      <td>-17</td>\n",
       "      <td>10</td>\n",
       "      <td>16</td>\n",
       "      <td>214</td>\n",
       "      <td>92</td>\n",
       "      <td>4</td>\n",
       "      <td>45</td>\n",
       "    </tr>\n",
       "    <tr>\n",
       "      <th>449</th>\n",
       "      <td>450</td>\n",
       "      <td>Surf City</td>\n",
       "      <td>Jan &amp; Dean</td>\n",
       "      <td>brill building pop</td>\n",
       "      <td>2010</td>\n",
       "      <td>148</td>\n",
       "      <td>81</td>\n",
       "      <td>53</td>\n",
       "      <td>-13</td>\n",
       "      <td>23</td>\n",
       "      <td>96</td>\n",
       "      <td>147</td>\n",
       "      <td>50</td>\n",
       "      <td>3</td>\n",
       "      <td>50</td>\n",
       "    </tr>\n",
       "    <tr>\n",
       "      <th>450</th>\n",
       "      <td>451</td>\n",
       "      <td>Dilemma</td>\n",
       "      <td>Nelly</td>\n",
       "      <td>dance pop</td>\n",
       "      <td>2002</td>\n",
       "      <td>168</td>\n",
       "      <td>55</td>\n",
       "      <td>73</td>\n",
       "      <td>-8</td>\n",
       "      <td>20</td>\n",
       "      <td>61</td>\n",
       "      <td>289</td>\n",
       "      <td>23</td>\n",
       "      <td>14</td>\n",
       "      <td>77</td>\n",
       "    </tr>\n",
       "    <tr>\n",
       "      <th>451</th>\n",
       "      <td>452</td>\n",
       "      <td>It's Gonna Be Me</td>\n",
       "      <td>*NSYNC</td>\n",
       "      <td>boy band</td>\n",
       "      <td>2000</td>\n",
       "      <td>165</td>\n",
       "      <td>87</td>\n",
       "      <td>64</td>\n",
       "      <td>-5</td>\n",
       "      <td>6</td>\n",
       "      <td>88</td>\n",
       "      <td>191</td>\n",
       "      <td>5</td>\n",
       "      <td>8</td>\n",
       "      <td>62</td>\n",
       "    </tr>\n",
       "    <tr>\n",
       "      <th>452</th>\n",
       "      <td>453</td>\n",
       "      <td>In The Army Now</td>\n",
       "      <td>Status Quo</td>\n",
       "      <td>album rock</td>\n",
       "      <td>2002</td>\n",
       "      <td>105</td>\n",
       "      <td>73</td>\n",
       "      <td>68</td>\n",
       "      <td>-8</td>\n",
       "      <td>14</td>\n",
       "      <td>94</td>\n",
       "      <td>281</td>\n",
       "      <td>11</td>\n",
       "      <td>2</td>\n",
       "      <td>59</td>\n",
       "    </tr>\n",
       "  </tbody>\n",
       "</table>\n",
       "<p>453 rows × 15 columns</p>\n",
       "</div>"
      ],
      "text/plain": [
       "      Id                                        title            artist  \\\n",
       "0      1                                 My Happiness    Connie Francis   \n",
       "1      2                             Unchained Melody   The Teddy Bears   \n",
       "2      3                        How Deep Is Your Love          Bee Gees   \n",
       "3      4                                Woman in Love  Barbra Streisand   \n",
       "4      5  Goodbye Yellow Brick Road - Remastered 2014        Elton John   \n",
       "..   ...                                          ...               ...   \n",
       "448  449                               But Not For Me   Ella Fitzgerald   \n",
       "449  450                                    Surf City        Jan & Dean   \n",
       "450  451                                      Dilemma             Nelly   \n",
       "451  452                             It's Gonna Be Me            *NSYNC   \n",
       "452  453                              In The Army Now        Status Quo   \n",
       "\n",
       "              top genre  year  bpm  nrgy  dnce  dB  live  val  dur  acous  \\\n",
       "0       adult standards  1996  107    31    45  -8    13   28  150     75   \n",
       "1                   NaN  2011  114    44    53  -8    13   47  139     49   \n",
       "2       adult standards  1979  105    36    63  -9    13   67  245     11   \n",
       "3       adult standards  1980  170    28    47 -16    13   33  232     25   \n",
       "4             glam rock  1973  121    47    56  -8    15   40  193     45   \n",
       "..                  ...   ...  ...   ...   ...  ..   ...  ...  ...    ...   \n",
       "448     adult standards  1959   80    22    18 -17    10   16  214     92   \n",
       "449  brill building pop  2010  148    81    53 -13    23   96  147     50   \n",
       "450           dance pop  2002  168    55    73  -8    20   61  289     23   \n",
       "451            boy band  2000  165    87    64  -5     6   88  191      5   \n",
       "452          album rock  2002  105    73    68  -8    14   94  281     11   \n",
       "\n",
       "     spch  pop  \n",
       "0       3   44  \n",
       "1       3   37  \n",
       "2       3   77  \n",
       "3       3   67  \n",
       "4       3   63  \n",
       "..    ...  ...  \n",
       "448     4   45  \n",
       "449     3   50  \n",
       "450    14   77  \n",
       "451     8   62  \n",
       "452     2   59  \n",
       "\n",
       "[453 rows x 15 columns]"
      ]
     },
     "execution_count": 9,
     "metadata": {},
     "output_type": "execute_result"
    }
   ],
   "source": [
    "Song_popularity_train"
   ]
  },
  {
   "cell_type": "markdown",
   "id": "c9e042cb",
   "metadata": {
    "id": "c9e042cb"
   },
   "source": [
    "# 3. Data Exploration"
   ]
  },
  {
   "cell_type": "markdown",
   "id": "a38b83b0",
   "metadata": {},
   "source": [
    "## 3.1 Taking a quick look of the data structure"
   ]
  },
  {
   "cell_type": "code",
   "execution_count": 10,
   "id": "070f0771",
   "metadata": {
    "colab": {
     "base_uri": "https://localhost:8080/",
     "height": 371
    },
    "id": "070f0771",
    "outputId": "1718f9b7-4c85-4b1c-9027-de2df27a2fa0"
   },
   "outputs": [
    {
     "data": {
      "text/html": [
       "<div>\n",
       "<style scoped>\n",
       "    .dataframe tbody tr th:only-of-type {\n",
       "        vertical-align: middle;\n",
       "    }\n",
       "\n",
       "    .dataframe tbody tr th {\n",
       "        vertical-align: top;\n",
       "    }\n",
       "\n",
       "    .dataframe thead th {\n",
       "        text-align: right;\n",
       "    }\n",
       "</style>\n",
       "<table border=\"1\" class=\"dataframe\">\n",
       "  <thead>\n",
       "    <tr style=\"text-align: right;\">\n",
       "      <th></th>\n",
       "      <th>Id</th>\n",
       "      <th>title</th>\n",
       "      <th>artist</th>\n",
       "      <th>top genre</th>\n",
       "      <th>year</th>\n",
       "      <th>bpm</th>\n",
       "      <th>nrgy</th>\n",
       "      <th>dnce</th>\n",
       "      <th>dB</th>\n",
       "      <th>live</th>\n",
       "      <th>val</th>\n",
       "      <th>dur</th>\n",
       "      <th>acous</th>\n",
       "      <th>spch</th>\n",
       "      <th>pop</th>\n",
       "    </tr>\n",
       "  </thead>\n",
       "  <tbody>\n",
       "    <tr>\n",
       "      <th>0</th>\n",
       "      <td>1</td>\n",
       "      <td>My Happiness</td>\n",
       "      <td>Connie Francis</td>\n",
       "      <td>adult standards</td>\n",
       "      <td>1996</td>\n",
       "      <td>107</td>\n",
       "      <td>31</td>\n",
       "      <td>45</td>\n",
       "      <td>-8</td>\n",
       "      <td>13</td>\n",
       "      <td>28</td>\n",
       "      <td>150</td>\n",
       "      <td>75</td>\n",
       "      <td>3</td>\n",
       "      <td>44</td>\n",
       "    </tr>\n",
       "    <tr>\n",
       "      <th>1</th>\n",
       "      <td>2</td>\n",
       "      <td>Unchained Melody</td>\n",
       "      <td>The Teddy Bears</td>\n",
       "      <td>NaN</td>\n",
       "      <td>2011</td>\n",
       "      <td>114</td>\n",
       "      <td>44</td>\n",
       "      <td>53</td>\n",
       "      <td>-8</td>\n",
       "      <td>13</td>\n",
       "      <td>47</td>\n",
       "      <td>139</td>\n",
       "      <td>49</td>\n",
       "      <td>3</td>\n",
       "      <td>37</td>\n",
       "    </tr>\n",
       "    <tr>\n",
       "      <th>2</th>\n",
       "      <td>3</td>\n",
       "      <td>How Deep Is Your Love</td>\n",
       "      <td>Bee Gees</td>\n",
       "      <td>adult standards</td>\n",
       "      <td>1979</td>\n",
       "      <td>105</td>\n",
       "      <td>36</td>\n",
       "      <td>63</td>\n",
       "      <td>-9</td>\n",
       "      <td>13</td>\n",
       "      <td>67</td>\n",
       "      <td>245</td>\n",
       "      <td>11</td>\n",
       "      <td>3</td>\n",
       "      <td>77</td>\n",
       "    </tr>\n",
       "    <tr>\n",
       "      <th>3</th>\n",
       "      <td>4</td>\n",
       "      <td>Woman in Love</td>\n",
       "      <td>Barbra Streisand</td>\n",
       "      <td>adult standards</td>\n",
       "      <td>1980</td>\n",
       "      <td>170</td>\n",
       "      <td>28</td>\n",
       "      <td>47</td>\n",
       "      <td>-16</td>\n",
       "      <td>13</td>\n",
       "      <td>33</td>\n",
       "      <td>232</td>\n",
       "      <td>25</td>\n",
       "      <td>3</td>\n",
       "      <td>67</td>\n",
       "    </tr>\n",
       "    <tr>\n",
       "      <th>4</th>\n",
       "      <td>5</td>\n",
       "      <td>Goodbye Yellow Brick Road - Remastered 2014</td>\n",
       "      <td>Elton John</td>\n",
       "      <td>glam rock</td>\n",
       "      <td>1973</td>\n",
       "      <td>121</td>\n",
       "      <td>47</td>\n",
       "      <td>56</td>\n",
       "      <td>-8</td>\n",
       "      <td>15</td>\n",
       "      <td>40</td>\n",
       "      <td>193</td>\n",
       "      <td>45</td>\n",
       "      <td>3</td>\n",
       "      <td>63</td>\n",
       "    </tr>\n",
       "  </tbody>\n",
       "</table>\n",
       "</div>"
      ],
      "text/plain": [
       "   Id                                        title            artist  \\\n",
       "0   1                                 My Happiness    Connie Francis   \n",
       "1   2                             Unchained Melody   The Teddy Bears   \n",
       "2   3                        How Deep Is Your Love          Bee Gees   \n",
       "3   4                                Woman in Love  Barbra Streisand   \n",
       "4   5  Goodbye Yellow Brick Road - Remastered 2014        Elton John   \n",
       "\n",
       "         top genre  year  bpm  nrgy  dnce  dB  live  val  dur  acous  spch  \\\n",
       "0  adult standards  1996  107    31    45  -8    13   28  150     75     3   \n",
       "1              NaN  2011  114    44    53  -8    13   47  139     49     3   \n",
       "2  adult standards  1979  105    36    63  -9    13   67  245     11     3   \n",
       "3  adult standards  1980  170    28    47 -16    13   33  232     25     3   \n",
       "4        glam rock  1973  121    47    56  -8    15   40  193     45     3   \n",
       "\n",
       "   pop  \n",
       "0   44  \n",
       "1   37  \n",
       "2   77  \n",
       "3   67  \n",
       "4   63  "
      ]
     },
     "execution_count": 10,
     "metadata": {},
     "output_type": "execute_result"
    }
   ],
   "source": [
    "Song_popularity_train.head()"
   ]
  },
  {
   "cell_type": "code",
   "execution_count": 11,
   "id": "5daeb5fb",
   "metadata": {
    "colab": {
     "base_uri": "https://localhost:8080/"
    },
    "id": "5daeb5fb",
    "outputId": "852c8889-96f8-48bd-e111-2e8e9a474f5b"
   },
   "outputs": [
    {
     "name": "stdout",
     "output_type": "stream",
     "text": [
      "<class 'pandas.core.frame.DataFrame'>\n",
      "RangeIndex: 453 entries, 0 to 452\n",
      "Data columns (total 15 columns):\n",
      " #   Column     Non-Null Count  Dtype \n",
      "---  ------     --------------  ----- \n",
      " 0   Id         453 non-null    int64 \n",
      " 1   title      453 non-null    object\n",
      " 2   artist     453 non-null    object\n",
      " 3   top genre  438 non-null    object\n",
      " 4   year       453 non-null    int64 \n",
      " 5   bpm        453 non-null    int64 \n",
      " 6   nrgy       453 non-null    int64 \n",
      " 7   dnce       453 non-null    int64 \n",
      " 8   dB         453 non-null    int64 \n",
      " 9   live       453 non-null    int64 \n",
      " 10  val        453 non-null    int64 \n",
      " 11  dur        453 non-null    int64 \n",
      " 12  acous      453 non-null    int64 \n",
      " 13  spch       453 non-null    int64 \n",
      " 14  pop        453 non-null    int64 \n",
      "dtypes: int64(12), object(3)\n",
      "memory usage: 53.2+ KB\n"
     ]
    }
   ],
   "source": [
    "Song_popularity_train.info()"
   ]
  },
  {
   "cell_type": "markdown",
   "id": "ddc8f3ea",
   "metadata": {
    "id": "ddc8f3ea"
   },
   "source": [
    "There are 453 instances in the dataset. It is important to note that top genre attribute has only 438 non-null values, this means that 15 songs are missing this feature."
   ]
  },
  {
   "cell_type": "code",
   "execution_count": 12,
   "id": "80957143",
   "metadata": {
    "colab": {
     "base_uri": "https://localhost:8080/"
    },
    "id": "80957143",
    "outputId": "3ca851be-613c-4815-d193-9b7dc4798a95"
   },
   "outputs": [
    {
     "data": {
      "text/plain": [
       "Please Mr. Postman                             2\n",
       "Take Good Care Of My Baby - 1990 Remastered    2\n",
       "Eye of the Tiger                               1\n",
       "Can't Help Falling in Love                     1\n",
       "A Thousand Miles Away                          1\n",
       "                                              ..\n",
       "Raindrops                                      1\n",
       "Rock Your Baby                                 1\n",
       "I Feel Love - Edit                             1\n",
       "Telstar                                        1\n",
       "No Matter What                                 1\n",
       "Name: title, Length: 451, dtype: int64"
      ]
     },
     "execution_count": 12,
     "metadata": {},
     "output_type": "execute_result"
    }
   ],
   "source": [
    "Song_popularity_train[\"title\"].value_counts()"
   ]
  },
  {
   "cell_type": "markdown",
   "id": "5e89d91e",
   "metadata": {},
   "source": [
    "It appears that there are only two songs that share the same title. We don't think that this should be a problem as 'title' is one of the columns we will likely be dropping."
   ]
  },
  {
   "cell_type": "code",
   "execution_count": 13,
   "id": "1877be6d",
   "metadata": {
    "colab": {
     "base_uri": "https://localhost:8080/"
    },
    "id": "1877be6d",
    "outputId": "c3dc3819-fd8b-4d3a-8c2e-d99fbc0e67d6"
   },
   "outputs": [
    {
     "data": {
      "text/plain": [
       "Elton John                     9\n",
       "Queen                          7\n",
       "ABBA                           7\n",
       "The Beatles                    6\n",
       "Mariah Carey                   5\n",
       "                              ..\n",
       "Shontelle                      1\n",
       "Alice Coltrane                 1\n",
       "Joan Jett & The Blackhearts    1\n",
       "Player                         1\n",
       "Jayne Mansfield                1\n",
       "Name: artist, Length: 345, dtype: int64"
      ]
     },
     "execution_count": 13,
     "metadata": {},
     "output_type": "execute_result"
    }
   ],
   "source": [
    "Song_popularity_train[\"artist\"].value_counts()"
   ]
  },
  {
   "cell_type": "markdown",
   "id": "051ece92",
   "metadata": {},
   "source": [
    "Elton John is the artist with the most songs in this dataset."
   ]
  },
  {
   "cell_type": "code",
   "execution_count": 14,
   "id": "612e0e68",
   "metadata": {
    "colab": {
     "base_uri": "https://localhost:8080/"
    },
    "id": "612e0e68",
    "outputId": "0d61f7f4-82b1-4ace-a422-25ee5dc32525"
   },
   "outputs": [
    {
     "data": {
      "text/plain": [
       "adult standards       68\n",
       "album rock            66\n",
       "dance pop             61\n",
       "brill building pop    16\n",
       "glam rock             16\n",
       "                      ..\n",
       "brit funk              1\n",
       "alternative rock       1\n",
       "boogaloo               1\n",
       "bow pop                1\n",
       "louisiana blues        1\n",
       "Name: top genre, Length: 86, dtype: int64"
      ]
     },
     "execution_count": 14,
     "metadata": {},
     "output_type": "execute_result"
    }
   ],
   "source": [
    "Song_popularity_train[\"top genre\"].value_counts()"
   ]
  },
  {
   "cell_type": "markdown",
   "id": "3ab2af4e",
   "metadata": {},
   "source": [
    "'Adult standards' has the highest number of songs belonging to that genre."
   ]
  },
  {
   "cell_type": "code",
   "execution_count": 15,
   "id": "5a0f542c",
   "metadata": {
    "colab": {
     "base_uri": "https://localhost:8080/",
     "height": 364
    },
    "id": "5a0f542c",
    "outputId": "ed69e7a1-8ff0-4d3f-b9d6-45267195e58c"
   },
   "outputs": [
    {
     "data": {
      "text/html": [
       "<div>\n",
       "<style scoped>\n",
       "    .dataframe tbody tr th:only-of-type {\n",
       "        vertical-align: middle;\n",
       "    }\n",
       "\n",
       "    .dataframe tbody tr th {\n",
       "        vertical-align: top;\n",
       "    }\n",
       "\n",
       "    .dataframe thead th {\n",
       "        text-align: right;\n",
       "    }\n",
       "</style>\n",
       "<table border=\"1\" class=\"dataframe\">\n",
       "  <thead>\n",
       "    <tr style=\"text-align: right;\">\n",
       "      <th></th>\n",
       "      <th>Id</th>\n",
       "      <th>year</th>\n",
       "      <th>bpm</th>\n",
       "      <th>nrgy</th>\n",
       "      <th>dnce</th>\n",
       "      <th>dB</th>\n",
       "      <th>live</th>\n",
       "      <th>val</th>\n",
       "      <th>dur</th>\n",
       "      <th>acous</th>\n",
       "      <th>spch</th>\n",
       "      <th>pop</th>\n",
       "    </tr>\n",
       "  </thead>\n",
       "  <tbody>\n",
       "    <tr>\n",
       "      <th>count</th>\n",
       "      <td>453.000000</td>\n",
       "      <td>453.000000</td>\n",
       "      <td>453.000000</td>\n",
       "      <td>453.000000</td>\n",
       "      <td>453.000000</td>\n",
       "      <td>453.000000</td>\n",
       "      <td>453.000000</td>\n",
       "      <td>453.000000</td>\n",
       "      <td>453.000000</td>\n",
       "      <td>453.000000</td>\n",
       "      <td>453.000000</td>\n",
       "      <td>453.000000</td>\n",
       "    </tr>\n",
       "    <tr>\n",
       "      <th>mean</th>\n",
       "      <td>227.000000</td>\n",
       "      <td>1991.443709</td>\n",
       "      <td>118.399558</td>\n",
       "      <td>60.070640</td>\n",
       "      <td>59.565121</td>\n",
       "      <td>-8.836645</td>\n",
       "      <td>17.757174</td>\n",
       "      <td>59.465784</td>\n",
       "      <td>226.278146</td>\n",
       "      <td>32.982340</td>\n",
       "      <td>5.660044</td>\n",
       "      <td>60.743929</td>\n",
       "    </tr>\n",
       "    <tr>\n",
       "      <th>std</th>\n",
       "      <td>130.914094</td>\n",
       "      <td>16.776103</td>\n",
       "      <td>25.238713</td>\n",
       "      <td>22.205284</td>\n",
       "      <td>15.484458</td>\n",
       "      <td>3.577187</td>\n",
       "      <td>13.830300</td>\n",
       "      <td>24.539868</td>\n",
       "      <td>63.770380</td>\n",
       "      <td>29.530015</td>\n",
       "      <td>5.550581</td>\n",
       "      <td>13.470083</td>\n",
       "    </tr>\n",
       "    <tr>\n",
       "      <th>min</th>\n",
       "      <td>1.000000</td>\n",
       "      <td>1948.000000</td>\n",
       "      <td>62.000000</td>\n",
       "      <td>7.000000</td>\n",
       "      <td>18.000000</td>\n",
       "      <td>-24.000000</td>\n",
       "      <td>2.000000</td>\n",
       "      <td>6.000000</td>\n",
       "      <td>98.000000</td>\n",
       "      <td>0.000000</td>\n",
       "      <td>2.000000</td>\n",
       "      <td>26.000000</td>\n",
       "    </tr>\n",
       "    <tr>\n",
       "      <th>25%</th>\n",
       "      <td>114.000000</td>\n",
       "      <td>1976.000000</td>\n",
       "      <td>100.000000</td>\n",
       "      <td>43.000000</td>\n",
       "      <td>49.000000</td>\n",
       "      <td>-11.000000</td>\n",
       "      <td>9.000000</td>\n",
       "      <td>42.000000</td>\n",
       "      <td>181.000000</td>\n",
       "      <td>7.000000</td>\n",
       "      <td>3.000000</td>\n",
       "      <td>53.000000</td>\n",
       "    </tr>\n",
       "    <tr>\n",
       "      <th>50%</th>\n",
       "      <td>227.000000</td>\n",
       "      <td>1994.000000</td>\n",
       "      <td>119.000000</td>\n",
       "      <td>63.000000</td>\n",
       "      <td>61.000000</td>\n",
       "      <td>-8.000000</td>\n",
       "      <td>13.000000</td>\n",
       "      <td>61.000000</td>\n",
       "      <td>223.000000</td>\n",
       "      <td>24.000000</td>\n",
       "      <td>4.000000</td>\n",
       "      <td>63.000000</td>\n",
       "    </tr>\n",
       "    <tr>\n",
       "      <th>75%</th>\n",
       "      <td>340.000000</td>\n",
       "      <td>2007.000000</td>\n",
       "      <td>133.000000</td>\n",
       "      <td>78.000000</td>\n",
       "      <td>70.000000</td>\n",
       "      <td>-6.000000</td>\n",
       "      <td>23.000000</td>\n",
       "      <td>80.000000</td>\n",
       "      <td>262.000000</td>\n",
       "      <td>58.000000</td>\n",
       "      <td>6.000000</td>\n",
       "      <td>71.000000</td>\n",
       "    </tr>\n",
       "    <tr>\n",
       "      <th>max</th>\n",
       "      <td>453.000000</td>\n",
       "      <td>2019.000000</td>\n",
       "      <td>199.000000</td>\n",
       "      <td>100.000000</td>\n",
       "      <td>96.000000</td>\n",
       "      <td>-1.000000</td>\n",
       "      <td>93.000000</td>\n",
       "      <td>99.000000</td>\n",
       "      <td>511.000000</td>\n",
       "      <td>100.000000</td>\n",
       "      <td>47.000000</td>\n",
       "      <td>84.000000</td>\n",
       "    </tr>\n",
       "  </tbody>\n",
       "</table>\n",
       "</div>"
      ],
      "text/plain": [
       "               Id         year         bpm        nrgy        dnce  \\\n",
       "count  453.000000   453.000000  453.000000  453.000000  453.000000   \n",
       "mean   227.000000  1991.443709  118.399558   60.070640   59.565121   \n",
       "std    130.914094    16.776103   25.238713   22.205284   15.484458   \n",
       "min      1.000000  1948.000000   62.000000    7.000000   18.000000   \n",
       "25%    114.000000  1976.000000  100.000000   43.000000   49.000000   \n",
       "50%    227.000000  1994.000000  119.000000   63.000000   61.000000   \n",
       "75%    340.000000  2007.000000  133.000000   78.000000   70.000000   \n",
       "max    453.000000  2019.000000  199.000000  100.000000   96.000000   \n",
       "\n",
       "               dB        live         val         dur       acous        spch  \\\n",
       "count  453.000000  453.000000  453.000000  453.000000  453.000000  453.000000   \n",
       "mean    -8.836645   17.757174   59.465784  226.278146   32.982340    5.660044   \n",
       "std      3.577187   13.830300   24.539868   63.770380   29.530015    5.550581   \n",
       "min    -24.000000    2.000000    6.000000   98.000000    0.000000    2.000000   \n",
       "25%    -11.000000    9.000000   42.000000  181.000000    7.000000    3.000000   \n",
       "50%     -8.000000   13.000000   61.000000  223.000000   24.000000    4.000000   \n",
       "75%     -6.000000   23.000000   80.000000  262.000000   58.000000    6.000000   \n",
       "max     -1.000000   93.000000   99.000000  511.000000  100.000000   47.000000   \n",
       "\n",
       "              pop  \n",
       "count  453.000000  \n",
       "mean    60.743929  \n",
       "std     13.470083  \n",
       "min     26.000000  \n",
       "25%     53.000000  \n",
       "50%     63.000000  \n",
       "75%     71.000000  \n",
       "max     84.000000  "
      ]
     },
     "execution_count": 15,
     "metadata": {},
     "output_type": "execute_result"
    }
   ],
   "source": [
    "Song_popularity_train.describe()"
   ]
  },
  {
   "cell_type": "markdown",
   "id": "b1f1383d",
   "metadata": {
    "id": "b1f1383d"
   },
   "source": [
    "The count, mean, min, and max rows can be seen here clearly. The null values have been ignored, for example the count for top genre is 438 not 453. We need to have a look at the 25th percentile, or the first quartile, the median, and the 75th percentile, or third quartile. The 25%, 50%, and 75% rows show the corresponding percentiles which indicate the value below which a given percentage of observations in a group of observations fall. For instance, 25% of the songs have a median popularity score of lower than 53, while 50% have lower than 63, and 75% have lower than 71."
   ]
  },
  {
   "cell_type": "markdown",
   "id": "fb1322ce",
   "metadata": {
    "id": "fb1322ce"
   },
   "source": [
    "## 3.2 Plotting histograms for each column"
   ]
  },
  {
   "cell_type": "code",
   "execution_count": 16,
   "id": "1c455083",
   "metadata": {
    "colab": {
     "base_uri": "https://localhost:8080/",
     "height": 659
    },
    "id": "1c455083",
    "outputId": "236b89f1-389d-4170-d8fd-e31bf954d0d2"
   },
   "outputs": [
    {
     "data": {
      "image/png": "[encoded data removed]",
      "text/plain": [
       "<Figure size 1440x1080 with 12 Axes>"
      ]
     },
     "metadata": {
      "needs_background": "light"
     },
     "output_type": "display_data"
    }
   ],
   "source": [
    "%matplotlib inline\n",
    "import matplotlib.pyplot as plt\n",
    "Song_popularity_train.hist(bins=50,figsize=(20,15))\n",
    "plt.show()"
   ]
  },
  {
   "cell_type": "markdown",
   "id": "879640b1",
   "metadata": {
    "id": "879640b1"
   },
   "source": [
    "After performing the exploratory data analysis some of the columns will be dropped to improve the performance of the model. To help make the decision on which variables should be kept, a correlation matrix is used below. This summarises the correlation between each column in relation to the target 'pop'. "
   ]
  },
  {
   "cell_type": "markdown",
   "id": "96fb2c04",
   "metadata": {},
   "source": [
    "## 3.2 Exploring relationships "
   ]
  },
  {
   "cell_type": "code",
   "execution_count": 17,
   "id": "284bc4a9",
   "metadata": {},
   "outputs": [
    {
     "data": {
      "text/plain": [
       "pop      1.000000\n",
       "dur      0.363266\n",
       "dB       0.316854\n",
       "nrgy     0.303797\n",
       "dnce     0.258670\n",
       "spch     0.130955\n",
       "Id       0.086837\n",
       "bpm      0.055024\n",
       "val     -0.018713\n",
       "live    -0.051364\n",
       "year    -0.054293\n",
       "acous   -0.465875\n",
       "Name: pop, dtype: float64"
      ]
     },
     "execution_count": 17,
     "metadata": {},
     "output_type": "execute_result"
    }
   ],
   "source": [
    "cor_mat = Song_popularity_train.corr()\n",
    "cor_mat[\"pop\"].sort_values(ascending=False)"
   ]
  },
  {
   "cell_type": "markdown",
   "id": "06d40f00",
   "metadata": {},
   "source": [
    "To help visualise the relationship between the variables, a heatmap is used. This displays the correlation matrix above with the stronger colours clearly indicating which variables are more strongly correlated. "
   ]
  },
  {
   "cell_type": "code",
   "execution_count": 18,
   "id": "901c60e2",
   "metadata": {},
   "outputs": [],
   "source": [
    "import seaborn as sns"
   ]
  },
  {
   "cell_type": "code",
   "execution_count": 114,
   "id": "5b403943",
   "metadata": {},
   "outputs": [
    {
     "data": {
      "text/plain": [
       "<AxesSubplot:>"
      ]
     },
     "execution_count": 114,
     "metadata": {},
     "output_type": "execute_result"
    },
    {
     "data": {
      "image/png": "[encoded data removed]",
      "text/plain": [
       "<Figure size 648x648 with 2 Axes>"
      ]
     },
     "metadata": {
      "needs_background": "light"
     },
     "output_type": "display_data"
    }
   ],
   "source": [
    "f, ax = plt.subplots(figsize=(9, 9))\n",
    "cmap = sns.diverging_palette(150, 275, s = 80, l = 55, n = 9, as_cmap = True)\n",
    "sns.heatmap(cor_mat,cmap = cmap, center = 0,square = True,\n",
    "             linewidths =.6,cbar_kws={\"shrink\": .5} )"
   ]
  },
  {
   "cell_type": "markdown",
   "id": "a0959834",
   "metadata": {
    "id": "a0959834"
   },
   "source": [
    "# 4. Cleaning Data"
   ]
  },
  {
   "cell_type": "markdown",
   "id": "0a179f60",
   "metadata": {
    "id": "0a179f60"
   },
   "source": [
    "We have decided to clean the data by dropping all the attributes with a poor or negative correlation to the popularity of the song. We have also decided to drop all the attributes with missing values such as top genre."
   ]
  },
  {
   "cell_type": "markdown",
   "id": "d19296ad",
   "metadata": {
    "id": "d19296ad"
   },
   "source": [
    "## 4.1 Droping some of the attributes"
   ]
  },
  {
   "cell_type": "code",
   "execution_count": 19,
   "id": "c7a8b62a",
   "metadata": {
    "id": "c7a8b62a"
   },
   "outputs": [],
   "source": [
    "Song_popularity_train= Song_popularity_train.drop(\"Id\", axis=1)\n",
    "Song_popularity_train= Song_popularity_train.drop(\"title\", axis=1)\n",
    "Song_popularity_train= Song_popularity_train.drop(\"artist\", axis=1)\n",
    "Song_popularity_train= Song_popularity_train.drop(\"top genre\", axis=1)\n",
    "Song_popularity_train= Song_popularity_train.drop(\"year\", axis=1)\n",
    "Song_popularity_train= Song_popularity_train.drop(\"live\", axis=1)\n",
    "Song_popularity_train= Song_popularity_train.drop(\"acous\", axis=1)\n",
    "Song_popularity_train= Song_popularity_train.drop(\"val\", axis=1)"
   ]
  },
  {
   "cell_type": "code",
   "execution_count": 70,
   "id": "CMfJUNdISrYK",
   "metadata": {
    "id": "CMfJUNdISrYK"
   },
   "outputs": [],
   "source": [
    "Song_popularity_test =pd.read_csv('CS98XRegressionTest.csv')\n",
    "Id=Song_popularity_test.iloc[:,0]"
   ]
  },
  {
   "cell_type": "code",
   "execution_count": 71,
   "id": "QrGJuNG7Soe_",
   "metadata": {
    "id": "QrGJuNG7Soe_",
    "scrolled": true
   },
   "outputs": [],
   "source": [
    "Song_popularity_test= Song_popularity_test.drop(\"Id\", axis=1)\n",
    "Song_popularity_test= Song_popularity_test.drop(\"title\", axis=1)\n",
    "Song_popularity_test= Song_popularity_test.drop(\"artist\", axis=1)\n",
    "Song_popularity_test= Song_popularity_test.drop(\"top genre\", axis=1)\n",
    "Song_popularity_test= Song_popularity_test.drop(\"year\", axis=1)\n",
    "Song_popularity_test= Song_popularity_test.drop(\"live\", axis=1)\n",
    "Song_popularity_test= Song_popularity_test.drop(\"acous\", axis=1)\n",
    "Song_popularity_test= Song_popularity_test.drop(\"val\", axis=1)"
   ]
  },
  {
   "cell_type": "code",
   "execution_count": 24,
   "id": "78d3f679",
   "metadata": {
    "colab": {
     "base_uri": "https://localhost:8080/",
     "height": 423
    },
    "id": "78d3f679",
    "outputId": "2e8440bc-c5a5-4ec3-9953-8c0c713ed30c"
   },
   "outputs": [
    {
     "data": {
      "text/html": [
       "<div>\n",
       "<style scoped>\n",
       "    .dataframe tbody tr th:only-of-type {\n",
       "        vertical-align: middle;\n",
       "    }\n",
       "\n",
       "    .dataframe tbody tr th {\n",
       "        vertical-align: top;\n",
       "    }\n",
       "\n",
       "    .dataframe thead th {\n",
       "        text-align: right;\n",
       "    }\n",
       "</style>\n",
       "<table border=\"1\" class=\"dataframe\">\n",
       "  <thead>\n",
       "    <tr style=\"text-align: right;\">\n",
       "      <th></th>\n",
       "      <th>bpm</th>\n",
       "      <th>nrgy</th>\n",
       "      <th>dnce</th>\n",
       "      <th>dB</th>\n",
       "      <th>dur</th>\n",
       "      <th>spch</th>\n",
       "      <th>pop</th>\n",
       "    </tr>\n",
       "  </thead>\n",
       "  <tbody>\n",
       "    <tr>\n",
       "      <th>0</th>\n",
       "      <td>107</td>\n",
       "      <td>31</td>\n",
       "      <td>45</td>\n",
       "      <td>-8</td>\n",
       "      <td>150</td>\n",
       "      <td>3</td>\n",
       "      <td>44</td>\n",
       "    </tr>\n",
       "    <tr>\n",
       "      <th>1</th>\n",
       "      <td>114</td>\n",
       "      <td>44</td>\n",
       "      <td>53</td>\n",
       "      <td>-8</td>\n",
       "      <td>139</td>\n",
       "      <td>3</td>\n",
       "      <td>37</td>\n",
       "    </tr>\n",
       "    <tr>\n",
       "      <th>2</th>\n",
       "      <td>105</td>\n",
       "      <td>36</td>\n",
       "      <td>63</td>\n",
       "      <td>-9</td>\n",
       "      <td>245</td>\n",
       "      <td>3</td>\n",
       "      <td>77</td>\n",
       "    </tr>\n",
       "    <tr>\n",
       "      <th>3</th>\n",
       "      <td>170</td>\n",
       "      <td>28</td>\n",
       "      <td>47</td>\n",
       "      <td>-16</td>\n",
       "      <td>232</td>\n",
       "      <td>3</td>\n",
       "      <td>67</td>\n",
       "    </tr>\n",
       "    <tr>\n",
       "      <th>4</th>\n",
       "      <td>121</td>\n",
       "      <td>47</td>\n",
       "      <td>56</td>\n",
       "      <td>-8</td>\n",
       "      <td>193</td>\n",
       "      <td>3</td>\n",
       "      <td>63</td>\n",
       "    </tr>\n",
       "    <tr>\n",
       "      <th>...</th>\n",
       "      <td>...</td>\n",
       "      <td>...</td>\n",
       "      <td>...</td>\n",
       "      <td>...</td>\n",
       "      <td>...</td>\n",
       "      <td>...</td>\n",
       "      <td>...</td>\n",
       "    </tr>\n",
       "    <tr>\n",
       "      <th>448</th>\n",
       "      <td>80</td>\n",
       "      <td>22</td>\n",
       "      <td>18</td>\n",
       "      <td>-17</td>\n",
       "      <td>214</td>\n",
       "      <td>4</td>\n",
       "      <td>45</td>\n",
       "    </tr>\n",
       "    <tr>\n",
       "      <th>449</th>\n",
       "      <td>148</td>\n",
       "      <td>81</td>\n",
       "      <td>53</td>\n",
       "      <td>-13</td>\n",
       "      <td>147</td>\n",
       "      <td>3</td>\n",
       "      <td>50</td>\n",
       "    </tr>\n",
       "    <tr>\n",
       "      <th>450</th>\n",
       "      <td>168</td>\n",
       "      <td>55</td>\n",
       "      <td>73</td>\n",
       "      <td>-8</td>\n",
       "      <td>289</td>\n",
       "      <td>14</td>\n",
       "      <td>77</td>\n",
       "    </tr>\n",
       "    <tr>\n",
       "      <th>451</th>\n",
       "      <td>165</td>\n",
       "      <td>87</td>\n",
       "      <td>64</td>\n",
       "      <td>-5</td>\n",
       "      <td>191</td>\n",
       "      <td>8</td>\n",
       "      <td>62</td>\n",
       "    </tr>\n",
       "    <tr>\n",
       "      <th>452</th>\n",
       "      <td>105</td>\n",
       "      <td>73</td>\n",
       "      <td>68</td>\n",
       "      <td>-8</td>\n",
       "      <td>281</td>\n",
       "      <td>2</td>\n",
       "      <td>59</td>\n",
       "    </tr>\n",
       "  </tbody>\n",
       "</table>\n",
       "<p>453 rows × 7 columns</p>\n",
       "</div>"
      ],
      "text/plain": [
       "     bpm  nrgy  dnce  dB  dur  spch  pop\n",
       "0    107    31    45  -8  150     3   44\n",
       "1    114    44    53  -8  139     3   37\n",
       "2    105    36    63  -9  245     3   77\n",
       "3    170    28    47 -16  232     3   67\n",
       "4    121    47    56  -8  193     3   63\n",
       "..   ...   ...   ...  ..  ...   ...  ...\n",
       "448   80    22    18 -17  214     4   45\n",
       "449  148    81    53 -13  147     3   50\n",
       "450  168    55    73  -8  289    14   77\n",
       "451  165    87    64  -5  191     8   62\n",
       "452  105    73    68  -8  281     2   59\n",
       "\n",
       "[453 rows x 7 columns]"
      ]
     },
     "execution_count": 24,
     "metadata": {},
     "output_type": "execute_result"
    }
   ],
   "source": [
    "Song_popularity_train"
   ]
  },
  {
   "cell_type": "markdown",
   "id": "97322a3d",
   "metadata": {
    "id": "97322a3d"
   },
   "source": [
    "# 5. Creating the test set"
   ]
  },
  {
   "cell_type": "code",
   "execution_count": 72,
   "id": "b008839f",
   "metadata": {
    "id": "b008839f"
   },
   "outputs": [],
   "source": [
    "import numpy as np\n",
    "np.random.seed(42)"
   ]
  },
  {
   "cell_type": "code",
   "execution_count": 73,
   "id": "ce99ce8f",
   "metadata": {
    "id": "ce99ce8f"
   },
   "outputs": [],
   "source": [
    "X=Song_popularity_train.values[:,0:-1]\n",
    "Y=Song_popularity_train.values[:,-1]"
   ]
  },
  {
   "cell_type": "code",
   "execution_count": 74,
   "id": "8f989b51",
   "metadata": {
    "colab": {
     "base_uri": "https://localhost:8080/"
    },
    "id": "8f989b51",
    "outputId": "3e747aec-405e-4965-92c0-53ba079ca1e8"
   },
   "outputs": [
    {
     "data": {
      "text/plain": [
       "array([[107,  31,  45,  -8, 150,   3],\n",
       "       [114,  44,  53,  -8, 139,   3],\n",
       "       [105,  36,  63,  -9, 245,   3],\n",
       "       ...,\n",
       "       [168,  55,  73,  -8, 289,  14],\n",
       "       [165,  87,  64,  -5, 191,   8],\n",
       "       [105,  73,  68,  -8, 281,   2]], dtype=int64)"
      ]
     },
     "execution_count": 74,
     "metadata": {},
     "output_type": "execute_result"
    }
   ],
   "source": [
    "X"
   ]
  },
  {
   "cell_type": "code",
   "execution_count": 75,
   "id": "6bc8703f",
   "metadata": {
    "colab": {
     "base_uri": "https://localhost:8080/"
    },
    "id": "6bc8703f",
    "outputId": "15d676ad-629c-43bd-b92d-bed2b0450d32"
   },
   "outputs": [
    {
     "data": {
      "text/plain": [
       "array([44, 37, 77, 67, 63, 74, 44, 71, 34, 35, 63, 68, 30, 35, 60, 40, 46,\n",
       "       65, 62, 77, 74, 71, 64, 63, 42, 59, 28, 55, 48, 74, 78, 73, 61, 71,\n",
       "       78, 30, 66, 40, 70, 63, 57, 74, 60, 67, 60, 61, 60, 76, 71, 78, 53,\n",
       "       60, 59, 61, 68, 37, 70, 30, 70, 68, 67, 56, 77, 52, 66, 72, 69, 48,\n",
       "       39, 79, 70, 79, 28, 49, 75, 73, 61, 49, 38, 65, 42, 38, 68, 42, 59,\n",
       "       67, 70, 30, 54, 73, 29, 60, 70, 43, 80, 53, 56, 72, 40, 67, 55, 69,\n",
       "       54, 44, 46, 46, 71, 47, 73, 58, 71, 58, 56, 59, 58, 77, 41, 77, 68,\n",
       "       62, 39, 66, 70, 67, 62, 52, 66, 43, 58, 70, 63, 49, 70, 75, 61, 39,\n",
       "       55, 65, 72, 67, 56, 41, 73, 51, 41, 48, 53, 76, 71, 58, 66, 44, 59,\n",
       "       71, 71, 47, 65, 38, 60, 72, 73, 70, 82, 56, 63, 62, 69, 68, 61, 76,\n",
       "       53, 75, 77, 56, 48, 54, 62, 62, 73, 65, 68, 46, 79, 61, 57, 61, 77,\n",
       "       60, 63, 63, 72, 48, 32, 56, 73, 36, 77, 78, 65, 73, 73, 62, 60, 60,\n",
       "       79, 67, 72, 56, 76, 66, 55, 57, 66, 64, 64, 33, 58, 68, 37, 38, 40,\n",
       "       71, 41, 58, 49, 55, 54, 65, 66, 81, 80, 31, 70, 61, 83, 64, 54, 62,\n",
       "       56, 65, 67, 80, 45, 64, 54, 70, 67, 61, 60, 54, 74, 33, 27, 67, 56,\n",
       "       75, 68, 51, 53, 40, 64, 68, 47, 83, 59, 27, 61, 46, 69, 78, 59, 46,\n",
       "       79, 41, 69, 72, 70, 76, 71, 68, 68, 59, 63, 80, 73, 67, 76, 79, 39,\n",
       "       60, 78, 64, 42, 76, 84, 59, 55, 71, 46, 67, 76, 67, 76, 74, 52, 56,\n",
       "       32, 68, 58, 75, 46, 30, 73, 53, 31, 39, 51, 66, 59, 61, 46, 63, 50,\n",
       "       68, 73, 74, 44, 59, 63, 69, 26, 80, 66, 49, 51, 67, 73, 82, 57, 75,\n",
       "       63, 68, 72, 54, 35, 75, 80, 41, 57, 65, 31, 38, 47, 79, 69, 56, 51,\n",
       "       26, 74, 56, 73, 73, 31, 67, 77, 72, 61, 36, 75, 79, 78, 68, 65, 68,\n",
       "       81, 75, 71, 74, 53, 64, 55, 64, 77, 66, 62, 41, 72, 70, 57, 41, 68,\n",
       "       62, 50, 58, 63, 74, 71, 36, 74, 79, 34, 72, 60, 72, 65, 74, 53, 56,\n",
       "       72, 52, 76, 77, 57, 65, 68, 63, 52, 70, 73, 64, 33, 73, 61, 72, 73,\n",
       "       78, 73, 81, 65, 74, 54, 64, 57, 55, 46, 60, 75, 65, 60, 48, 74, 81,\n",
       "       43, 61, 56, 72, 45, 37, 45, 50, 77, 62, 59], dtype=int64)"
      ]
     },
     "execution_count": 75,
     "metadata": {},
     "output_type": "execute_result"
    }
   ],
   "source": [
    "Y"
   ]
  },
  {
   "cell_type": "code",
   "execution_count": 76,
   "id": "961950ea",
   "metadata": {
    "id": "961950ea"
   },
   "outputs": [],
   "source": [
    "from sklearn.model_selection import train_test_split"
   ]
  },
  {
   "cell_type": "code",
   "execution_count": 77,
   "id": "b4210635",
   "metadata": {
    "id": "b4210635"
   },
   "outputs": [],
   "source": [
    "X_train, X_test, y_train, y_test = train_test_split(X, Y, test_size=0.2, random_state=42)"
   ]
  },
  {
   "cell_type": "markdown",
   "id": "5c3d5530",
   "metadata": {
    "id": "5c3d5530"
   },
   "source": [
    "# 6. Visualising the training set"
   ]
  },
  {
   "cell_type": "markdown",
   "id": "19a2619a",
   "metadata": {
    "id": "19a2619a"
   },
   "source": [
    "## 6.1 Revisiting Correlations"
   ]
  },
  {
   "cell_type": "markdown",
   "id": "ce6d99b9",
   "metadata": {},
   "source": [
    "As above, we can compute the standard correlation coefficient (also called Pearson's r) between every pair of attributes. This shows the strength of any potential linear relationship between the values. We look at this again, this time with only the variables that will be used in the regression model."
   ]
  },
  {
   "cell_type": "code",
   "execution_count": 78,
   "id": "d54379ea",
   "metadata": {
    "id": "d54379ea"
   },
   "outputs": [],
   "source": [
    "corr_matrix=Song_popularity_train.corr()"
   ]
  },
  {
   "cell_type": "code",
   "execution_count": 79,
   "id": "8c58fa19",
   "metadata": {
    "colab": {
     "base_uri": "https://localhost:8080/"
    },
    "id": "8c58fa19",
    "outputId": "f17e5d05-8553-49e9-fa33-e93a336dead5"
   },
   "outputs": [
    {
     "data": {
      "text/plain": [
       "pop     1.000000\n",
       "dur     0.363266\n",
       "dB      0.316854\n",
       "nrgy    0.303797\n",
       "dnce    0.258670\n",
       "spch    0.130955\n",
       "bpm     0.055024\n",
       "Name: pop, dtype: float64"
      ]
     },
     "execution_count": 79,
     "metadata": {},
     "output_type": "execute_result"
    }
   ],
   "source": [
    "corr_matrix[\"pop\"].sort_values(ascending=False)"
   ]
  },
  {
   "cell_type": "code",
   "execution_count": 33,
   "id": "e49b0595",
   "metadata": {
    "colab": {
     "base_uri": "https://localhost:8080/",
     "height": 603
    },
    "id": "e49b0595",
    "outputId": "7edf582f-c41a-4458-f0eb-aa07e1b5e18c"
   },
   "outputs": [
    {
     "name": "stdout",
     "output_type": "stream",
     "text": [
      "Saving figure scatter_matrix_plot\n"
     ]
    },
    {
     "data": {
      "image/png": "[encoded data removed]",
      "text/plain": [
       "<Figure size 864x576 with 49 Axes>"
      ]
     },
     "metadata": {
      "needs_background": "light"
     },
     "output_type": "display_data"
    }
   ],
   "source": [
    "from pandas.plotting import scatter_matrix\n",
    "\n",
    "attributes = [\"pop\",\"dur\",\"dB\",\n",
    "              \"nrgy\",\"dnce\",\"spch\",\"bpm\"]\n",
    "scatter_matrix(Song_popularity_train[attributes], figsize=(12, 8))\n",
    "save_fig(\"scatter_matrix_plot\")"
   ]
  },
  {
   "cell_type": "markdown",
   "id": "78fe33c3",
   "metadata": {
    "id": "78fe33c3"
   },
   "source": [
    "# 7. Select and Train the model"
   ]
  },
  {
   "cell_type": "markdown",
   "id": "9a878b13",
   "metadata": {
    "id": "9a878b13"
   },
   "source": [
    "## 7.1 Training and Evaluating on the Training Set"
   ]
  },
  {
   "cell_type": "markdown",
   "id": "9c31ea57",
   "metadata": {
    "id": "9c31ea57"
   },
   "source": [
    "### 7.1.1 Linear Regression"
   ]
  },
  {
   "cell_type": "markdown",
   "id": "34f5e410",
   "metadata": {},
   "source": [
    "When starting a regression problem, a simple Linear Regression model is often used first as it can give a quick and reliable benchmark for comparing with other regression methods. For this reason we have started with this simple regression model. "
   ]
  },
  {
   "cell_type": "code",
   "execution_count": 80,
   "id": "5649ce19",
   "metadata": {
    "colab": {
     "base_uri": "https://localhost:8080/"
    },
    "id": "5649ce19",
    "outputId": "acaa6832-a695-4873-8423-a0d4e4290bf6"
   },
   "outputs": [
    {
     "data": {
      "text/plain": [
       "0.22009017650427465"
      ]
     },
     "execution_count": 80,
     "metadata": {},
     "output_type": "execute_result"
    }
   ],
   "source": [
    "from sklearn.linear_model import LinearRegression\n",
    "lin_reg = LinearRegression()\n",
    "lin_reg.fit(X_train,y_train)\n",
    "lin_reg.score(X_train,y_train)"
   ]
  },
  {
   "cell_type": "code",
   "execution_count": 81,
   "id": "234f8508",
   "metadata": {
    "id": "234f8508"
   },
   "outputs": [],
   "source": [
    "y_pred = lin_reg.predict(X_test)"
   ]
  },
  {
   "cell_type": "code",
   "execution_count": 82,
   "id": "c2bc2801",
   "metadata": {
    "id": "c2bc2801"
   },
   "outputs": [],
   "source": [
    "from sklearn import metrics"
   ]
  },
  {
   "cell_type": "code",
   "execution_count": 38,
   "id": "24c00745",
   "metadata": {
    "colab": {
     "base_uri": "https://localhost:8080/"
    },
    "id": "24c00745",
    "outputId": "bf24724e-0a92-4ec1-afb5-624ed8b3cee2"
   },
   "outputs": [
    {
     "name": "stdout",
     "output_type": "stream",
     "text": [
      "13.001370831820983\n"
     ]
    }
   ],
   "source": [
    "print(np.sqrt(metrics.mean_squared_error(y_test, y_pred)))"
   ]
  },
  {
   "cell_type": "code",
   "execution_count": 83,
   "id": "c01911e7",
   "metadata": {
    "colab": {
     "base_uri": "https://localhost:8080/"
    },
    "id": "c01911e7",
    "outputId": "722b4aa3-21e8-40e8-bea8-d0be53f162ab"
   },
   "outputs": [
    {
     "name": "stdout",
     "output_type": "stream",
     "text": [
      "10.212823330955475\n",
      "169.03564350652545\n"
     ]
    }
   ],
   "source": [
    "print(metrics.mean_absolute_error(y_test, y_pred))\n",
    "print(metrics.mean_squared_error(y_test, y_pred))"
   ]
  },
  {
   "cell_type": "markdown",
   "id": "29f55387",
   "metadata": {
    "id": "29f55387"
   },
   "source": [
    "### 7.1.2 Decision Tree"
   ]
  },
  {
   "cell_type": "markdown",
   "id": "c5a58724",
   "metadata": {},
   "source": [
    "The Decision Tree Regressor model will create a model in the shape of a 'tree' which it will then use to predict future values."
   ]
  },
  {
   "cell_type": "code",
   "execution_count": 84,
   "id": "a5669868",
   "metadata": {
    "colab": {
     "base_uri": "https://localhost:8080/"
    },
    "id": "a5669868",
    "outputId": "04c4f366-1c66-4a86-b47c-a39e59a9ae88"
   },
   "outputs": [
    {
     "data": {
      "text/plain": [
       "DecisionTreeRegressor(random_state=42)"
      ]
     },
     "execution_count": 84,
     "metadata": {},
     "output_type": "execute_result"
    }
   ],
   "source": [
    "from sklearn.metrics import mean_squared_error\n",
    "from sklearn.tree import DecisionTreeRegressor\n",
    "\n",
    "tree_reg = DecisionTreeRegressor(random_state=42)\n",
    "tree_reg.fit(X_train,y_train)"
   ]
  },
  {
   "cell_type": "code",
   "execution_count": 85,
   "id": "095caeaf",
   "metadata": {
    "colab": {
     "base_uri": "https://localhost:8080/"
    },
    "id": "095caeaf",
    "outputId": "d17f64fe-4678-440e-ee90-30a6d0a393d2"
   },
   "outputs": [
    {
     "data": {
      "text/plain": [
       "15.267216907082709"
      ]
     },
     "execution_count": 85,
     "metadata": {},
     "output_type": "execute_result"
    }
   ],
   "source": [
    "y_pred = tree_reg.predict(X_test)\n",
    "tree_mse = mean_squared_error(y_test,y_pred)\n",
    "tree_rmse = np.sqrt(tree_mse)\n",
    "tree_rmse"
   ]
  },
  {
   "cell_type": "markdown",
   "id": "75bfe788",
   "metadata": {},
   "source": [
    "This gives a higher RMSE than the simple Linear Regression model above."
   ]
  },
  {
   "cell_type": "markdown",
   "id": "ec27c862",
   "metadata": {
    "id": "ec27c862"
   },
   "source": [
    "### 7.1.3 Support Vector Machine (SVM)"
   ]
  },
  {
   "cell_type": "markdown",
   "id": "8954abe0",
   "metadata": {},
   "source": [
    "The Support Vector Machine can also be used in a regression model. It will fit as many instances as it can into a defined set of boundaries. We have used SVM regression here to see if we can improve on the first Linear Regression model. "
   ]
  },
  {
   "cell_type": "code",
   "execution_count": 86,
   "id": "d3fc26a7",
   "metadata": {
    "colab": {
     "base_uri": "https://localhost:8080/"
    },
    "id": "d3fc26a7",
    "outputId": "ce3ec402-c8a4-4fe8-f31e-b14abbb6310d"
   },
   "outputs": [
    {
     "data": {
      "text/plain": [
       "13.215505431612307"
      ]
     },
     "execution_count": 86,
     "metadata": {},
     "output_type": "execute_result"
    }
   ],
   "source": [
    "from sklearn.svm import SVR\n",
    "\n",
    "svm_reg = SVR(kernel=\"linear\")\n",
    "svm_reg.fit(X_train,y_train)\n",
    "y_pred= svm_reg.predict(X_test)\n",
    "svm_mse = mean_squared_error(y_test,y_pred)\n",
    "svm_rmse = np.sqrt(svm_mse)\n",
    "svm_rmse"
   ]
  },
  {
   "cell_type": "markdown",
   "id": "c829241e",
   "metadata": {
    "id": "c829241e"
   },
   "source": [
    "### 7.1.4 Random Forest Regressor"
   ]
  },
  {
   "cell_type": "markdown",
   "id": "531d36d9",
   "metadata": {},
   "source": [
    "Using an ensemble method can often achieve a better result than a single regression method as it can combine the results of several methods and improve on them. Here we have used a Random Forest Regressor which is an ensemble of Decision Trees. This method will hopefully result in an improved model."
   ]
  },
  {
   "cell_type": "code",
   "execution_count": 87,
   "id": "35665c62",
   "metadata": {
    "colab": {
     "base_uri": "https://localhost:8080/"
    },
    "id": "35665c62",
    "outputId": "bb281e63-cc31-496f-ec36-605e6d89cef5"
   },
   "outputs": [
    {
     "data": {
      "text/plain": [
       "RandomForestRegressor(max_features=3, n_estimators=75, random_state=42)"
      ]
     },
     "execution_count": 87,
     "metadata": {},
     "output_type": "execute_result"
    }
   ],
   "source": [
    "from sklearn.ensemble import RandomForestRegressor\n",
    "\n",
    "forest_reg = RandomForestRegressor(max_features=3,n_estimators=75,random_state=42)\n",
    "forest_reg.fit(X_train,y_train)"
   ]
  },
  {
   "cell_type": "code",
   "execution_count": 88,
   "id": "09289ef2",
   "metadata": {
    "colab": {
     "base_uri": "https://localhost:8080/"
    },
    "id": "09289ef2",
    "outputId": "4432ab9d-e005-4871-84bd-69cf2d44c30c"
   },
   "outputs": [
    {
     "data": {
      "text/plain": [
       "12.142940607340817"
      ]
     },
     "execution_count": 88,
     "metadata": {},
     "output_type": "execute_result"
    }
   ],
   "source": [
    "y_pred = forest_reg.predict(X_test)\n",
    "forest_mse = mean_squared_error(y_test,y_pred)\n",
    "forest_rmse = np.sqrt(forest_mse)\n",
    "forest_rmse"
   ]
  },
  {
   "cell_type": "markdown",
   "id": "8a1a67fe",
   "metadata": {},
   "source": [
    "The RMSE for the ensemble method is lower than that of any other methods that we have used."
   ]
  },
  {
   "cell_type": "markdown",
   "id": "0de07010",
   "metadata": {
    "id": "0de07010"
   },
   "source": [
    "# 8. Better Evaluation using Cross Validation"
   ]
  },
  {
   "cell_type": "markdown",
   "id": "f0d37219",
   "metadata": {},
   "source": [
    "Cross validation will take the dataset and split it randomly into 'folds'. These will be trained on and evaluated. We have chosen to use 10 'folds' so the result is the 10 scores below."
   ]
  },
  {
   "cell_type": "code",
   "execution_count": 89,
   "id": "b2e5634c",
   "metadata": {
    "id": "b2e5634c"
   },
   "outputs": [],
   "source": [
    "from sklearn.model_selection import cross_val_score\n",
    "\n",
    "scores = cross_val_score(tree_reg, X, Y,\n",
    "                         scoring=\"neg_mean_squared_error\", cv=10)\n",
    "tree_rmse_scores = np.sqrt(-scores)"
   ]
  },
  {
   "cell_type": "code",
   "execution_count": 90,
   "id": "ce1abab3",
   "metadata": {
    "colab": {
     "base_uri": "https://localhost:8080/"
    },
    "id": "ce1abab3",
    "outputId": "cca8e019-77ac-4c99-fd71-4ff9dedd488e"
   },
   "outputs": [
    {
     "name": "stdout",
     "output_type": "stream",
     "text": [
      "Scores: [14.55424635 16.10427974 14.1429042  18.10892966 16.23644734 15.37024543\n",
      " 17.74197784 14.47833631 14.55335013 14.20015649]\n",
      "Mean: 15.549087349275561\n",
      "Standard deviation: 1.3819885189227956\n"
     ]
    }
   ],
   "source": [
    "def display_scores(scores):\n",
    "    print(\"Scores:\", scores)\n",
    "    print(\"Mean:\", scores.mean())\n",
    "    print(\"Standard deviation:\", scores.std())\n",
    "\n",
    "display_scores(tree_rmse_scores)"
   ]
  },
  {
   "cell_type": "code",
   "execution_count": 91,
   "id": "fa2373ca",
   "metadata": {
    "colab": {
     "base_uri": "https://localhost:8080/"
    },
    "id": "fa2373ca",
    "outputId": "fccf11ab-b37e-4d24-c76e-da2586c5513f"
   },
   "outputs": [
    {
     "name": "stdout",
     "output_type": "stream",
     "text": [
      "Scores: [13.08367835 11.41219725 10.02531612 10.2786866  11.58883901 13.39711841\n",
      " 12.79600897 12.34130884 13.54435558 10.68130052]\n",
      "Mean: 11.91488096411488\n",
      "Standard deviation: 1.2371270057479518\n"
     ]
    }
   ],
   "source": [
    "lin_scores = cross_val_score(lin_reg, X, Y,\n",
    "                             scoring=\"neg_mean_squared_error\", cv=10)\n",
    "lin_rmse_scores = np.sqrt(-lin_scores)\n",
    "display_scores(lin_rmse_scores)"
   ]
  },
  {
   "cell_type": "code",
   "execution_count": 92,
   "id": "82927386",
   "metadata": {
    "colab": {
     "base_uri": "https://localhost:8080/"
    },
    "id": "82927386",
    "outputId": "c33d6168-2e97-47cb-9911-a54e126a995f"
   },
   "outputs": [
    {
     "data": {
      "text/plain": [
       "count    10.000000\n",
       "mean     11.914881\n",
       "std       1.304046\n",
       "min      10.025316\n",
       "25%      10.864025\n",
       "50%      11.965074\n",
       "75%      13.011761\n",
       "max      13.544356\n",
       "dtype: float64"
      ]
     },
     "execution_count": 92,
     "metadata": {},
     "output_type": "execute_result"
    }
   ],
   "source": [
    "scores = cross_val_score(lin_reg, X, Y, scoring=\"neg_mean_squared_error\", cv=10)\n",
    "pd.Series(np.sqrt(-scores)).describe()"
   ]
  },
  {
   "cell_type": "code",
   "execution_count": 93,
   "id": "e49538d7",
   "metadata": {
    "colab": {
     "base_uri": "https://localhost:8080/"
    },
    "id": "e49538d7",
    "outputId": "73ce4d76-5b7a-43ec-bf19-25c2fd612787"
   },
   "outputs": [
    {
     "name": "stdout",
     "output_type": "stream",
     "text": [
      "Scores: [13.1385656  11.52595771 10.17789452 10.57126448 12.07257511 13.34122625\n",
      " 12.83552757 12.50091879 14.33705514 10.75207831]\n",
      "Mean: 12.125306349408342\n",
      "Standard deviation: 1.2844337557700034\n"
     ]
    }
   ],
   "source": [
    "SVM_scores = cross_val_score(svm_reg, X, Y,\n",
    "                             scoring=\"neg_mean_squared_error\", cv=10)\n",
    "SVM_rmse_scores = np.sqrt(-SVM_scores)\n",
    "display_scores(SVM_rmse_scores)"
   ]
  },
  {
   "cell_type": "code",
   "execution_count": 49,
   "id": "ce0a2907",
   "metadata": {
    "colab": {
     "base_uri": "https://localhost:8080/"
    },
    "id": "ce0a2907",
    "outputId": "a7387a4f-cad2-4fa1-97c2-8cdfcbb134ce"
   },
   "outputs": [
    {
     "name": "stdout",
     "output_type": "stream",
     "text": [
      "Scores: [11.81242431 10.73832614  9.8962832  11.02207993 12.07043412 12.16526056\n",
      " 11.2796023  11.55058731 12.06787684 10.66082748]\n",
      "Mean: 11.326370218377182\n",
      "Standard deviation: 0.7086884860785613\n"
     ]
    }
   ],
   "source": [
    "from sklearn.model_selection import cross_val_score\n",
    "\n",
    "forest_scores = cross_val_score(forest_reg, X, Y,\n",
    "                                scoring=\"neg_mean_squared_error\", cv=10)\n",
    "forest_rmse_scores = np.sqrt(-forest_scores)\n",
    "display_scores(forest_rmse_scores)"
   ]
  },
  {
   "cell_type": "markdown",
   "id": "d380ba2f",
   "metadata": {},
   "source": [
    "The Random Forest scores using cross-validation show a lower standard deviation and a lower mean. They also show a lower score than the training set above which could indicate overfitting."
   ]
  },
  {
   "cell_type": "markdown",
   "id": "6be2f750",
   "metadata": {
    "id": "6be2f750"
   },
   "source": [
    "# 9 Fine-Tuning the Model"
   ]
  },
  {
   "cell_type": "markdown",
   "id": "3f37ffe4",
   "metadata": {},
   "source": [
    "After running and assessing several models, we need to fine-tune them. There are many methods that can be used in order to improve results. Firstly, we start by using Randomized Search, then we try a Gradient Boosting ensemble for better performance over the individual models."
   ]
  },
  {
   "cell_type": "markdown",
   "id": "f361700b",
   "metadata": {
    "id": "f361700b"
   },
   "source": [
    "## 9.1 Randomized Search"
   ]
  },
  {
   "cell_type": "code",
   "execution_count": 94,
   "id": "fde1d7d2",
   "metadata": {
    "colab": {
     "base_uri": "https://localhost:8080/"
    },
    "id": "fde1d7d2",
    "outputId": "10dea1ee-ed59-4c46-b6af-f68e9b53bc43"
   },
   "outputs": [
    {
     "data": {
      "text/plain": [
       "RandomizedSearchCV(cv=5, estimator=RandomForestRegressor(random_state=42),\n",
       "                   param_distributions={'max_features': <scipy.stats._distn_infrastructure.rv_frozen object at 0x0000023C98235B20>,\n",
       "                                        'n_estimators': <scipy.stats._distn_infrastructure.rv_frozen object at 0x0000023C98235F70>},\n",
       "                   random_state=42, scoring='neg_mean_squared_error')"
      ]
     },
     "execution_count": 94,
     "metadata": {},
     "output_type": "execute_result"
    }
   ],
   "source": [
    "from sklearn.model_selection import RandomizedSearchCV\n",
    "from scipy.stats import randint\n",
    "\n",
    "param_distribs = {\n",
    "        'n_estimators': randint(low=1, high=200),\n",
    "        'max_features': randint(low=1, high=8),\n",
    "    }\n",
    "\n",
    "forest_reg1= RandomForestRegressor(random_state=42)\n",
    "rnd_search = RandomizedSearchCV(forest_reg1, param_distributions=param_distribs,\n",
    "                                n_iter=10, cv=5, scoring='neg_mean_squared_error', random_state=42)\n",
    "rnd_search.fit(X, Y)"
   ]
  },
  {
   "cell_type": "code",
   "execution_count": 51,
   "id": "5d35af8a",
   "metadata": {
    "colab": {
     "base_uri": "https://localhost:8080/"
    },
    "id": "5d35af8a",
    "outputId": "d4aa9719-32ea-4795-8ad9-c4e165bf8f09"
   },
   "outputs": [
    {
     "name": "stdout",
     "output_type": "stream",
     "text": [
      "nan {'max_features': 7, 'n_estimators': 180}\n",
      "11.618590373783542 {'max_features': 5, 'n_estimators': 15}\n",
      "11.400506537025043 {'max_features': 3, 'n_estimators': 72}\n",
      "11.529706692948825 {'max_features': 5, 'n_estimators': 21}\n",
      "nan {'max_features': 7, 'n_estimators': 122}\n",
      "11.398740869992853 {'max_features': 3, 'n_estimators': 75}\n",
      "11.376668811936602 {'max_features': 3, 'n_estimators': 88}\n",
      "11.568257194482863 {'max_features': 5, 'n_estimators': 100}\n",
      "11.331438601606745 {'max_features': 3, 'n_estimators': 150}\n",
      "13.459494925999403 {'max_features': 5, 'n_estimators': 2}\n"
     ]
    }
   ],
   "source": [
    "cvres = rnd_search.cv_results_\n",
    "for mean_score, params in zip(cvres[\"mean_test_score\"], cvres[\"params\"]):\n",
    "    print(np.sqrt(-mean_score), params)"
   ]
  },
  {
   "cell_type": "code",
   "execution_count": 95,
   "id": "x93I77FxpBjQ",
   "metadata": {
    "colab": {
     "base_uri": "https://localhost:8080/"
    },
    "id": "x93I77FxpBjQ",
    "outputId": "0d6541e1-ee24-4c1a-8c45-b3817d3b5770"
   },
   "outputs": [
    {
     "data": {
      "text/plain": [
       "RandomForestRegressor(max_features=3, n_estimators=75, random_state=42)"
      ]
     },
     "execution_count": 95,
     "metadata": {},
     "output_type": "execute_result"
    }
   ],
   "source": [
    "forest_reg1 = RandomForestRegressor(max_features=3,n_estimators=75,random_state=42)\n",
    "forest_reg1.fit(X_train, y_train)"
   ]
  },
  {
   "cell_type": "markdown",
   "id": "e38c0614",
   "metadata": {
    "id": "e38c0614"
   },
   "source": [
    "## 9.2 Feature Importance"
   ]
  },
  {
   "cell_type": "markdown",
   "id": "b72697f3",
   "metadata": {
    "id": "b72697f3"
   },
   "source": [
    "The Random Forest Regressor will allow us to find out what the best attributes are for making predications. The scores of the most important attributes are found and listed below."
   ]
  },
  {
   "cell_type": "code",
   "execution_count": 96,
   "id": "48aafd35",
   "metadata": {
    "id": "48aafd35"
   },
   "outputs": [],
   "source": [
    "feature_importances = rnd_search.best_estimator_.feature_importances_"
   ]
  },
  {
   "cell_type": "code",
   "execution_count": 97,
   "id": "a7ac243f",
   "metadata": {
    "colab": {
     "base_uri": "https://localhost:8080/"
    },
    "id": "a7ac243f",
    "outputId": "f891ab4f-baac-4764-c2ff-1b2c45f6c183"
   },
   "outputs": [
    {
     "data": {
      "text/plain": [
       "array([0.11307558, 0.17532931, 0.13263738, 0.12175433, 0.39429164,\n",
       "       0.06291177])"
      ]
     },
     "execution_count": 97,
     "metadata": {},
     "output_type": "execute_result"
    }
   ],
   "source": [
    "feature_importances"
   ]
  },
  {
   "cell_type": "code",
   "execution_count": 99,
   "id": "7cd8bf9c",
   "metadata": {
    "id": "7cd8bf9c"
   },
   "outputs": [],
   "source": [
    "num_attributes=list(Song_popularity_train)"
   ]
  },
  {
   "cell_type": "code",
   "execution_count": 100,
   "id": "58040de9",
   "metadata": {
    "id": "58040de9"
   },
   "outputs": [],
   "source": [
    "attributes=num_attributes"
   ]
  },
  {
   "cell_type": "code",
   "execution_count": 101,
   "id": "71edacaa",
   "metadata": {
    "colab": {
     "base_uri": "https://localhost:8080/"
    },
    "id": "71edacaa",
    "outputId": "3b9a1de3-fd95-43dd-d23e-f240d504b99a"
   },
   "outputs": [
    {
     "data": {
      "text/plain": [
       "[(0.3942916403198778, 'dur'),\n",
       " (0.17532931213024072, 'nrgy'),\n",
       " (0.13263737600037048, 'dnce'),\n",
       " (0.12175432585081268, 'dB'),\n",
       " (0.11307557654866464, 'bpm'),\n",
       " (0.06291176915003364, 'spch')]"
      ]
     },
     "execution_count": 101,
     "metadata": {},
     "output_type": "execute_result"
    }
   ],
   "source": [
    "sorted(zip(feature_importances,attributes),reverse=True)"
   ]
  },
  {
   "cell_type": "markdown",
   "id": "9c362a45",
   "metadata": {},
   "source": [
    "# 9.3 Using ensemble Gradient Boosting"
   ]
  },
  {
   "cell_type": "markdown",
   "id": "fc5ad2d6",
   "metadata": {},
   "source": [
    "Gradient Boosting was chosen as it can improve the performance of a model by adding to the previous predictor in the ensemble.\n"
   ]
  },
  {
   "cell_type": "code",
   "execution_count": 102,
   "id": "c4dcf69a",
   "metadata": {},
   "outputs": [],
   "source": [
    "from sklearn.ensemble import GradientBoostingRegressor\n",
    "gbrt=GradientBoostingRegressor(max_depth=2,n_estimators=3,learning_rate=1.0)"
   ]
  },
  {
   "cell_type": "code",
   "execution_count": 103,
   "id": "dd09607f",
   "metadata": {},
   "outputs": [
    {
     "data": {
      "text/plain": [
       "GradientBoostingRegressor(learning_rate=1.0, max_depth=2, n_estimators=3)"
      ]
     },
     "execution_count": 103,
     "metadata": {},
     "output_type": "execute_result"
    }
   ],
   "source": [
    "gbrt.fit(X_train, y_train)"
   ]
  },
  {
   "cell_type": "markdown",
   "id": "37e5c7d7",
   "metadata": {
    "id": "37e5c7d7"
   },
   "source": [
    "# 10 Evaluate the System on the Test Set"
   ]
  },
  {
   "cell_type": "code",
   "execution_count": 104,
   "id": "c50586a4",
   "metadata": {
    "id": "c50586a4"
   },
   "outputs": [],
   "source": [
    "final_model = rnd_search.best_estimator_"
   ]
  },
  {
   "cell_type": "code",
   "execution_count": 105,
   "id": "7b244963",
   "metadata": {
    "id": "7b244963"
   },
   "outputs": [],
   "source": [
    "y_pred = final_model.predict(X_test)"
   ]
  },
  {
   "cell_type": "code",
   "execution_count": 106,
   "id": "6568eca1",
   "metadata": {
    "id": "6568eca1"
   },
   "outputs": [],
   "source": [
    "final_mse = mean_squared_error(y_test,y_pred)\n",
    "final_rmse = np.sqrt(final_mse)"
   ]
  },
  {
   "cell_type": "code",
   "execution_count": 107,
   "id": "85fb24cc",
   "metadata": {
    "colab": {
     "base_uri": "https://localhost:8080/"
    },
    "id": "85fb24cc",
    "outputId": "61386dc1-d5bf-435b-d706-afc59430de19"
   },
   "outputs": [
    {
     "data": {
      "text/plain": [
       "4.368006449386304"
      ]
     },
     "execution_count": 107,
     "metadata": {},
     "output_type": "execute_result"
    }
   ],
   "source": [
    "final_rmse"
   ]
  },
  {
   "cell_type": "markdown",
   "id": "2bc1dc5f",
   "metadata": {
    "id": "2bc1dc5f"
   },
   "source": [
    "## Computing 95% confidence interval for the test RMSE"
   ]
  },
  {
   "cell_type": "code",
   "execution_count": 108,
   "id": "4f3d593c",
   "metadata": {
    "colab": {
     "base_uri": "https://localhost:8080/"
    },
    "id": "4f3d593c",
    "outputId": "4fa612a6-5b43-4406-d183-58f3432a00bb"
   },
   "outputs": [
    {
     "data": {
      "text/plain": [
       "array([3.51356219, 5.08073237])"
      ]
     },
     "execution_count": 108,
     "metadata": {},
     "output_type": "execute_result"
    }
   ],
   "source": [
    "from scipy import stats\n",
    "\n",
    "confidence = 0.95\n",
    "squared_errors = (y_pred- y_test) ** 2\n",
    "np.sqrt(stats.t.interval(confidence, len(squared_errors) - 1,\n",
    "                         loc=squared_errors.mean(),\n",
    "                         scale=stats.sem(squared_errors)))"
   ]
  },
  {
   "cell_type": "markdown",
   "id": "6e693c3f",
   "metadata": {
    "id": "6e693c3f"
   },
   "source": [
    "## Saving prediction Results to CSV"
   ]
  },
  {
   "cell_type": "code",
   "execution_count": 110,
   "id": "4fc2cf55",
   "metadata": {
    "id": "4fc2cf55"
   },
   "outputs": [],
   "source": [
    "Result = pd.DataFrame()\n",
    "Result['Id']= Id\n",
    "Result['pop'] = pd.DataFrame(final_model.predict(Song_popularity_test))\n",
    "Result.to_csv('Result.csv', index= False)"
   ]
  },
  {
   "cell_type": "markdown",
   "id": "ece66946",
   "metadata": {},
   "source": [
    "## Conclusion"
   ]
  },
  {
   "cell_type": "markdown",
   "id": "d40da667",
   "metadata": {},
   "source": [
    "The RMSE score of the models was used in the evaluation. Generally, a lower RMSE is preferable as it indicates a better performing model. The first Linear Regression method that we used achieved a RMSE of 13 which we then used as a benchmark to compare the other models. Both the Decision Tree and the SVM performed worse however, but with a RMSE score of 12, the Random Forest Regressor was shown to be the better model. The final model achieved a RMSE of 4.37 (2 d.p) which was a significant improvement on the previous methods, this implemented Randomised Search. The final version of the regression model which was submitted to Kaggle initially gave a result of 7.49012. This changed to 10.18852 once the competition ended. \n",
    "\n",
    "We ran into a few problems, most notably with scaling of the data. When this was implemented, it resulted in a much higher RMSE so we agreed that future work would likely start at investigating why this was the case. The comparison of other methods for boosting and fine-tuning would be useful to ascertain whether these methods would improve the model.\n"
   ]
  },
  {
   "cell_type": "markdown",
   "id": "3696ca5f",
   "metadata": {},
   "source": [
    "#### References"
   ]
  },
  {
   "cell_type": "markdown",
   "id": "d16f8125",
   "metadata": {},
   "source": [
    "[1]A. Géron and R. Demarest, Hands-on machine learning with Scikit-Learn and TensorFlow. Sebastopol (Clif.) [etc.]: O'Reilly, 2019."
   ]
  },
  {
   "cell_type": "markdown",
   "id": "42af14aa",
   "metadata": {},
   "source": [
    "[2]\"1.4. Support Vector Machines\", scikit-learn, 2022. [Online]. Available: https://scikit-learn.org/stable/modules/svm.html#regression. [Accessed: 08- Feb- 2022]."
   ]
  },
  {
   "cell_type": "markdown",
   "id": "8f84cc64",
   "metadata": {},
   "source": [
    "[3]\"1.10. Decision Trees\", scikit-learn, 2022. [Online]. Available: https://scikit-learn.org/stable/modules/tree.html#regression. [Accessed: 11- Feb- 2022]."
   ]
  },
  {
   "cell_type": "markdown",
   "id": "4a4015ac",
   "metadata": {},
   "source": [
    "[4]\"1.11. Ensemble methods\", scikit-learn, 2022. [Online]. Available: https://scikit-learn.org/stable/modules/ensemble.html. [Accessed: 09- Feb- 2022]."
   ]
  },
  {
   "cell_type": "code",
   "execution_count": null,
   "id": "ce2f8439",
   "metadata": {},
   "outputs": [],
   "source": [
    "  "
   ]
  }
 ],
 "metadata": {
  "colab": {
   "name": "SongPopularityScoreRegressionProblem.ipynb",
   "provenance": []
  },
  "kernelspec": {
   "display_name": "Python 3 (ipykernel)",
   "language": "python",
   "name": "python3"
  },
  "language_info": {
   "codemirror_mode": {
    "name": "ipython",
    "version": 3
   },
   "file_extension": ".py",
   "mimetype": "text/x-python",
   "name": "python",
   "nbconvert_exporter": "python",
   "pygments_lexer": "ipython3",
   "version": "3.8.12"
  }
 },
 "nbformat": 4,
 "nbformat_minor": 5
}
